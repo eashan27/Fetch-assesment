{
 "cells": [
  {
   "cell_type": "code",
   "execution_count": 1,
   "id": "03af3776-86dd-420c-99a9-4c238b148439",
   "metadata": {},
   "outputs": [],
   "source": [
    "import pandas as pd\n",
    "import numpy as np"
   ]
  },
  {
   "cell_type": "code",
   "execution_count": 3,
   "id": "35db334e-8436-4805-aef4-96dddf36cefb",
   "metadata": {},
   "outputs": [],
   "source": [
    "## Data Quality checks"
   ]
  },
  {
   "cell_type": "code",
   "execution_count": 5,
   "id": "25ef6d3b-d56e-4bb0-8f99-f7eedfba4fd5",
   "metadata": {},
   "outputs": [],
   "source": [
    "users_data=pd.read_csv('USER_TAKEHOME.csv')\n",
    "transaction_data=pd.read_csv('TRANSACTION_TAKEHOME.csv')\n",
    "product_data=pd.read_csv('PRODUCTS_TAKEHOME.csv')"
   ]
  },
  {
   "cell_type": "code",
   "execution_count": 7,
   "id": "6a36bb63-472b-47d1-a4a3-0f94a4df9dc3",
   "metadata": {},
   "outputs": [
    {
     "data": {
      "text/html": [
       "<div>\n",
       "<style scoped>\n",
       "    .dataframe tbody tr th:only-of-type {\n",
       "        vertical-align: middle;\n",
       "    }\n",
       "\n",
       "    .dataframe tbody tr th {\n",
       "        vertical-align: top;\n",
       "    }\n",
       "\n",
       "    .dataframe thead th {\n",
       "        text-align: right;\n",
       "    }\n",
       "</style>\n",
       "<table border=\"1\" class=\"dataframe\">\n",
       "  <thead>\n",
       "    <tr style=\"text-align: right;\">\n",
       "      <th></th>\n",
       "      <th>ID</th>\n",
       "      <th>CREATED_DATE</th>\n",
       "      <th>BIRTH_DATE</th>\n",
       "      <th>STATE</th>\n",
       "      <th>LANGUAGE</th>\n",
       "      <th>GENDER</th>\n",
       "    </tr>\n",
       "  </thead>\n",
       "  <tbody>\n",
       "    <tr>\n",
       "      <th>0</th>\n",
       "      <td>5ef3b4f17053ab141787697d</td>\n",
       "      <td>2020-06-24 20:17:54.000 Z</td>\n",
       "      <td>2000-08-11 00:00:00.000 Z</td>\n",
       "      <td>CA</td>\n",
       "      <td>es-419</td>\n",
       "      <td>female</td>\n",
       "    </tr>\n",
       "    <tr>\n",
       "      <th>1</th>\n",
       "      <td>5ff220d383fcfc12622b96bc</td>\n",
       "      <td>2021-01-03 19:53:55.000 Z</td>\n",
       "      <td>2001-09-24 04:00:00.000 Z</td>\n",
       "      <td>PA</td>\n",
       "      <td>en</td>\n",
       "      <td>female</td>\n",
       "    </tr>\n",
       "    <tr>\n",
       "      <th>2</th>\n",
       "      <td>6477950aa55bb77a0e27ee10</td>\n",
       "      <td>2023-05-31 18:42:18.000 Z</td>\n",
       "      <td>1994-10-28 00:00:00.000 Z</td>\n",
       "      <td>FL</td>\n",
       "      <td>es-419</td>\n",
       "      <td>female</td>\n",
       "    </tr>\n",
       "    <tr>\n",
       "      <th>3</th>\n",
       "      <td>658a306e99b40f103b63ccf8</td>\n",
       "      <td>2023-12-26 01:46:22.000 Z</td>\n",
       "      <td>NaN</td>\n",
       "      <td>NC</td>\n",
       "      <td>en</td>\n",
       "      <td>NaN</td>\n",
       "    </tr>\n",
       "    <tr>\n",
       "      <th>4</th>\n",
       "      <td>653cf5d6a225ea102b7ecdc2</td>\n",
       "      <td>2023-10-28 11:51:50.000 Z</td>\n",
       "      <td>1972-03-19 00:00:00.000 Z</td>\n",
       "      <td>PA</td>\n",
       "      <td>en</td>\n",
       "      <td>female</td>\n",
       "    </tr>\n",
       "  </tbody>\n",
       "</table>\n",
       "</div>"
      ],
      "text/plain": [
       "                         ID               CREATED_DATE  \\\n",
       "0  5ef3b4f17053ab141787697d  2020-06-24 20:17:54.000 Z   \n",
       "1  5ff220d383fcfc12622b96bc  2021-01-03 19:53:55.000 Z   \n",
       "2  6477950aa55bb77a0e27ee10  2023-05-31 18:42:18.000 Z   \n",
       "3  658a306e99b40f103b63ccf8  2023-12-26 01:46:22.000 Z   \n",
       "4  653cf5d6a225ea102b7ecdc2  2023-10-28 11:51:50.000 Z   \n",
       "\n",
       "                  BIRTH_DATE STATE LANGUAGE  GENDER  \n",
       "0  2000-08-11 00:00:00.000 Z    CA   es-419  female  \n",
       "1  2001-09-24 04:00:00.000 Z    PA       en  female  \n",
       "2  1994-10-28 00:00:00.000 Z    FL   es-419  female  \n",
       "3                        NaN    NC       en     NaN  \n",
       "4  1972-03-19 00:00:00.000 Z    PA       en  female  "
      ]
     },
     "execution_count": 7,
     "metadata": {},
     "output_type": "execute_result"
    }
   ],
   "source": [
    "users_data.head()"
   ]
  },
  {
   "cell_type": "code",
   "execution_count": 9,
   "id": "51fc7eba-1f28-41fa-b028-da401043e2fb",
   "metadata": {},
   "outputs": [
    {
     "data": {
      "text/html": [
       "<div>\n",
       "<style scoped>\n",
       "    .dataframe tbody tr th:only-of-type {\n",
       "        vertical-align: middle;\n",
       "    }\n",
       "\n",
       "    .dataframe tbody tr th {\n",
       "        vertical-align: top;\n",
       "    }\n",
       "\n",
       "    .dataframe thead th {\n",
       "        text-align: right;\n",
       "    }\n",
       "</style>\n",
       "<table border=\"1\" class=\"dataframe\">\n",
       "  <thead>\n",
       "    <tr style=\"text-align: right;\">\n",
       "      <th></th>\n",
       "      <th>CATEGORY_1</th>\n",
       "      <th>CATEGORY_2</th>\n",
       "      <th>CATEGORY_3</th>\n",
       "      <th>CATEGORY_4</th>\n",
       "      <th>MANUFACTURER</th>\n",
       "      <th>BRAND</th>\n",
       "      <th>BARCODE</th>\n",
       "    </tr>\n",
       "  </thead>\n",
       "  <tbody>\n",
       "    <tr>\n",
       "      <th>0</th>\n",
       "      <td>Health &amp; Wellness</td>\n",
       "      <td>Sexual Health</td>\n",
       "      <td>Conductivity Gels &amp; Lotions</td>\n",
       "      <td>NaN</td>\n",
       "      <td>NaN</td>\n",
       "      <td>NaN</td>\n",
       "      <td>7.964944e+11</td>\n",
       "    </tr>\n",
       "    <tr>\n",
       "      <th>1</th>\n",
       "      <td>Snacks</td>\n",
       "      <td>Puffed Snacks</td>\n",
       "      <td>Cheese Curls &amp; Puffs</td>\n",
       "      <td>NaN</td>\n",
       "      <td>NaN</td>\n",
       "      <td>NaN</td>\n",
       "      <td>2.327801e+10</td>\n",
       "    </tr>\n",
       "    <tr>\n",
       "      <th>2</th>\n",
       "      <td>Health &amp; Wellness</td>\n",
       "      <td>Hair Care</td>\n",
       "      <td>Hair Care Accessories</td>\n",
       "      <td>NaN</td>\n",
       "      <td>PLACEHOLDER MANUFACTURER</td>\n",
       "      <td>ELECSOP</td>\n",
       "      <td>4.618178e+11</td>\n",
       "    </tr>\n",
       "    <tr>\n",
       "      <th>3</th>\n",
       "      <td>Health &amp; Wellness</td>\n",
       "      <td>Oral Care</td>\n",
       "      <td>Toothpaste</td>\n",
       "      <td>NaN</td>\n",
       "      <td>COLGATE-PALMOLIVE</td>\n",
       "      <td>COLGATE</td>\n",
       "      <td>3.500047e+10</td>\n",
       "    </tr>\n",
       "    <tr>\n",
       "      <th>4</th>\n",
       "      <td>Health &amp; Wellness</td>\n",
       "      <td>Medicines &amp; Treatments</td>\n",
       "      <td>Essential Oils</td>\n",
       "      <td>NaN</td>\n",
       "      <td>MAPLE HOLISTICS AND HONEYDEW PRODUCTS INTERCHA...</td>\n",
       "      <td>MAPLE HOLISTICS</td>\n",
       "      <td>8.068109e+11</td>\n",
       "    </tr>\n",
       "  </tbody>\n",
       "</table>\n",
       "</div>"
      ],
      "text/plain": [
       "          CATEGORY_1              CATEGORY_2                   CATEGORY_3  \\\n",
       "0  Health & Wellness           Sexual Health  Conductivity Gels & Lotions   \n",
       "1             Snacks           Puffed Snacks         Cheese Curls & Puffs   \n",
       "2  Health & Wellness               Hair Care        Hair Care Accessories   \n",
       "3  Health & Wellness               Oral Care                   Toothpaste   \n",
       "4  Health & Wellness  Medicines & Treatments               Essential Oils   \n",
       "\n",
       "  CATEGORY_4                                       MANUFACTURER  \\\n",
       "0        NaN                                                NaN   \n",
       "1        NaN                                                NaN   \n",
       "2        NaN                           PLACEHOLDER MANUFACTURER   \n",
       "3        NaN                                  COLGATE-PALMOLIVE   \n",
       "4        NaN  MAPLE HOLISTICS AND HONEYDEW PRODUCTS INTERCHA...   \n",
       "\n",
       "             BRAND       BARCODE  \n",
       "0              NaN  7.964944e+11  \n",
       "1              NaN  2.327801e+10  \n",
       "2          ELECSOP  4.618178e+11  \n",
       "3          COLGATE  3.500047e+10  \n",
       "4  MAPLE HOLISTICS  8.068109e+11  "
      ]
     },
     "execution_count": 9,
     "metadata": {},
     "output_type": "execute_result"
    }
   ],
   "source": [
    "product_data.head()"
   ]
  },
  {
   "cell_type": "code",
   "execution_count": 11,
   "id": "fc29b62a-e83d-4089-99fd-74cc3d729dc3",
   "metadata": {},
   "outputs": [
    {
     "data": {
      "text/html": [
       "<div>\n",
       "<style scoped>\n",
       "    .dataframe tbody tr th:only-of-type {\n",
       "        vertical-align: middle;\n",
       "    }\n",
       "\n",
       "    .dataframe tbody tr th {\n",
       "        vertical-align: top;\n",
       "    }\n",
       "\n",
       "    .dataframe thead th {\n",
       "        text-align: right;\n",
       "    }\n",
       "</style>\n",
       "<table border=\"1\" class=\"dataframe\">\n",
       "  <thead>\n",
       "    <tr style=\"text-align: right;\">\n",
       "      <th></th>\n",
       "      <th>RECEIPT_ID</th>\n",
       "      <th>PURCHASE_DATE</th>\n",
       "      <th>SCAN_DATE</th>\n",
       "      <th>STORE_NAME</th>\n",
       "      <th>USER_ID</th>\n",
       "      <th>BARCODE</th>\n",
       "      <th>FINAL_QUANTITY</th>\n",
       "      <th>FINAL_SALE</th>\n",
       "    </tr>\n",
       "  </thead>\n",
       "  <tbody>\n",
       "    <tr>\n",
       "      <th>0</th>\n",
       "      <td>0000d256-4041-4a3e-adc4-5623fb6e0c99</td>\n",
       "      <td>2024-08-21</td>\n",
       "      <td>2024-08-21 14:19:06.539 Z</td>\n",
       "      <td>WALMART</td>\n",
       "      <td>63b73a7f3d310dceeabd4758</td>\n",
       "      <td>1.530001e+10</td>\n",
       "      <td>1.00</td>\n",
       "      <td></td>\n",
       "    </tr>\n",
       "    <tr>\n",
       "      <th>1</th>\n",
       "      <td>0001455d-7a92-4a7b-a1d2-c747af1c8fd3</td>\n",
       "      <td>2024-07-20</td>\n",
       "      <td>2024-07-20 09:50:24.206 Z</td>\n",
       "      <td>ALDI</td>\n",
       "      <td>62c08877baa38d1a1f6c211a</td>\n",
       "      <td>NaN</td>\n",
       "      <td>zero</td>\n",
       "      <td>1.49</td>\n",
       "    </tr>\n",
       "    <tr>\n",
       "      <th>2</th>\n",
       "      <td>00017e0a-7851-42fb-bfab-0baa96e23586</td>\n",
       "      <td>2024-08-18</td>\n",
       "      <td>2024-08-19 15:38:56.813 Z</td>\n",
       "      <td>WALMART</td>\n",
       "      <td>60842f207ac8b7729e472020</td>\n",
       "      <td>7.874223e+10</td>\n",
       "      <td>1.00</td>\n",
       "      <td></td>\n",
       "    </tr>\n",
       "    <tr>\n",
       "      <th>3</th>\n",
       "      <td>000239aa-3478-453d-801e-66a82e39c8af</td>\n",
       "      <td>2024-06-18</td>\n",
       "      <td>2024-06-19 11:03:37.468 Z</td>\n",
       "      <td>FOOD LION</td>\n",
       "      <td>63fcd7cea4f8442c3386b589</td>\n",
       "      <td>7.833997e+11</td>\n",
       "      <td>zero</td>\n",
       "      <td>3.49</td>\n",
       "    </tr>\n",
       "    <tr>\n",
       "      <th>4</th>\n",
       "      <td>00026b4c-dfe8-49dd-b026-4c2f0fd5c6a1</td>\n",
       "      <td>2024-07-04</td>\n",
       "      <td>2024-07-05 15:56:43.549 Z</td>\n",
       "      <td>RANDALLS</td>\n",
       "      <td>6193231ae9b3d75037b0f928</td>\n",
       "      <td>4.790050e+10</td>\n",
       "      <td>1.00</td>\n",
       "      <td></td>\n",
       "    </tr>\n",
       "  </tbody>\n",
       "</table>\n",
       "</div>"
      ],
      "text/plain": [
       "                             RECEIPT_ID PURCHASE_DATE  \\\n",
       "0  0000d256-4041-4a3e-adc4-5623fb6e0c99    2024-08-21   \n",
       "1  0001455d-7a92-4a7b-a1d2-c747af1c8fd3    2024-07-20   \n",
       "2  00017e0a-7851-42fb-bfab-0baa96e23586    2024-08-18   \n",
       "3  000239aa-3478-453d-801e-66a82e39c8af    2024-06-18   \n",
       "4  00026b4c-dfe8-49dd-b026-4c2f0fd5c6a1    2024-07-04   \n",
       "\n",
       "                   SCAN_DATE STORE_NAME                   USER_ID  \\\n",
       "0  2024-08-21 14:19:06.539 Z    WALMART  63b73a7f3d310dceeabd4758   \n",
       "1  2024-07-20 09:50:24.206 Z       ALDI  62c08877baa38d1a1f6c211a   \n",
       "2  2024-08-19 15:38:56.813 Z    WALMART  60842f207ac8b7729e472020   \n",
       "3  2024-06-19 11:03:37.468 Z  FOOD LION  63fcd7cea4f8442c3386b589   \n",
       "4  2024-07-05 15:56:43.549 Z   RANDALLS  6193231ae9b3d75037b0f928   \n",
       "\n",
       "        BARCODE FINAL_QUANTITY FINAL_SALE  \n",
       "0  1.530001e+10           1.00             \n",
       "1           NaN           zero       1.49  \n",
       "2  7.874223e+10           1.00             \n",
       "3  7.833997e+11           zero       3.49  \n",
       "4  4.790050e+10           1.00             "
      ]
     },
     "execution_count": 11,
     "metadata": {},
     "output_type": "execute_result"
    }
   ],
   "source": [
    "transaction_data.head()"
   ]
  },
  {
   "cell_type": "code",
   "execution_count": 13,
   "id": "37466017-1c78-4195-8c92-977dfdd2e442",
   "metadata": {},
   "outputs": [
    {
     "data": {
      "text/plain": [
       "(845552, 7)"
      ]
     },
     "execution_count": 13,
     "metadata": {},
     "output_type": "execute_result"
    }
   ],
   "source": [
    "product_data.shape"
   ]
  },
  {
   "cell_type": "code",
   "execution_count": 15,
   "id": "181de60b-f355-4bfe-863b-e4fedf07b5f7",
   "metadata": {},
   "outputs": [
    {
     "name": "stdout",
     "output_type": "stream",
     "text": [
      "Total null values in 'manufacturer': 226474\n"
     ]
    }
   ],
   "source": [
    "# Count total null values in the 'manufacturer' column\n",
    "total_null_values = product_data['MANUFACTURER'].isnull().sum()\n",
    "print(f\"Total null values in 'manufacturer': {total_null_values}\")\n",
    "\n"
   ]
  },
  {
   "cell_type": "code",
   "execution_count": 17,
   "id": "091bbd71-646b-4aae-b68b-bd5b652f0f0f",
   "metadata": {},
   "outputs": [],
   "source": [
    "# Store datasets in a list\n",
    "data = [users_data, transaction_data, product_data]\n",
    "dataset_names = [\"users_data\", \"transaction_data\", \"product_data\"]"
   ]
  },
  {
   "cell_type": "code",
   "execution_count": 19,
   "id": "a327416d-5584-4af4-9882-4c40df57b668",
   "metadata": {},
   "outputs": [],
   "source": [
    "## 1. Quality data checks"
   ]
  },
  {
   "cell_type": "code",
   "execution_count": 21,
   "id": "3275ae66-6002-4f99-8bdc-d49ab88fb59a",
   "metadata": {},
   "outputs": [],
   "source": [
    "def missing_values(data1, data2):\n",
    "    for df, df1 in zip(data1, data2):\n",
    "        print(f\"Missing values in {df1}:\\n\")\n",
    "        print(df.isnull().sum())"
   ]
  },
  {
   "cell_type": "code",
   "execution_count": 23,
   "id": "600c3dbf-d876-453d-9ef5-6794b87a7be4",
   "metadata": {},
   "outputs": [
    {
     "name": "stdout",
     "output_type": "stream",
     "text": [
      "Missing values in users_data:\n",
      "\n",
      "ID                  0\n",
      "CREATED_DATE        0\n",
      "BIRTH_DATE       3675\n",
      "STATE            4812\n",
      "LANGUAGE        30508\n",
      "GENDER           5892\n",
      "dtype: int64\n",
      "Missing values in transaction_data:\n",
      "\n",
      "RECEIPT_ID           0\n",
      "PURCHASE_DATE        0\n",
      "SCAN_DATE            0\n",
      "STORE_NAME           0\n",
      "USER_ID              0\n",
      "BARCODE           5762\n",
      "FINAL_QUANTITY       0\n",
      "FINAL_SALE           0\n",
      "dtype: int64\n",
      "Missing values in product_data:\n",
      "\n",
      "CATEGORY_1         111\n",
      "CATEGORY_2        1424\n",
      "CATEGORY_3       60566\n",
      "CATEGORY_4      778093\n",
      "MANUFACTURER    226474\n",
      "BRAND           226472\n",
      "BARCODE           4025\n",
      "dtype: int64\n"
     ]
    }
   ],
   "source": [
    "missing_values(data,dataset_names)"
   ]
  },
  {
   "cell_type": "code",
   "execution_count": 25,
   "id": "388ae5cc-4471-45d7-ad40-5bf27b64caf9",
   "metadata": {},
   "outputs": [],
   "source": [
    "## As we can see there are many missing values present in various columns of these different datasets we want to analyze. It is very important\n",
    "## to understand if there are any NULLS/ Duplicate values we are dealing with to understand the data better"
   ]
  },
  {
   "cell_type": "code",
   "execution_count": 27,
   "id": "12fdea68-a934-4c47-ac51-4c71065d76f2",
   "metadata": {},
   "outputs": [],
   "source": [
    "#' We can always deal with missing values with different statistics method I always try to go with 3 approaches:\n",
    "# 1. Can we replace the missing values with mean/median if we are dealing with numerical columns in our data\n",
    "# 2. If dealing with a categorical column we can replace the missing value with MODE of that column\n",
    "# 3. If more than 70% of the column is NULL we can try to remove that column as it will not have much significance in our analysis. \n",
    "#For example in the 3 csv files I find column CATEGORY_4 where we find approx 92% values as NULL (778093/845552) so this column does not\n",
    "# hold much significance to our analysis\n"
   ]
  },
  {
   "cell_type": "code",
   "execution_count": 29,
   "id": "fc47593d-ec41-4ee2-83d5-29df06644913",
   "metadata": {},
   "outputs": [],
   "source": [
    "## Checking for duplicates##\n",
    "def check_duplicates(data1, data2):\n",
    "    for df, name in zip(data1,data2):\n",
    "        duplicate_count = df.duplicated().sum()\n",
    "        print(f\"{name} has {duplicate_count} duplicate rows.\\n\")\n"
   ]
  },
  {
   "cell_type": "code",
   "execution_count": 31,
   "id": "ab85d511-8b77-46e1-a52c-2baee782b27d",
   "metadata": {},
   "outputs": [
    {
     "name": "stdout",
     "output_type": "stream",
     "text": [
      "users_data has 0 duplicate rows.\n",
      "\n",
      "transaction_data has 171 duplicate rows.\n",
      "\n",
      "product_data has 215 duplicate rows.\n",
      "\n"
     ]
    }
   ],
   "source": [
    "check_duplicates(data,dataset_names)"
   ]
  },
  {
   "cell_type": "code",
   "execution_count": 32,
   "id": "0720f0f1-2873-46d3-869c-02eaddf28f17",
   "metadata": {},
   "outputs": [],
   "source": [
    "## Check datatypes for all columns\n",
    "def check_data_types(data1, data2):\n",
    "    for df, name in zip(data1, data2):\n",
    "        print(f\"Data types in {name}:\\n\")\n",
    "        print(df.dtypes)\n"
   ]
  },
  {
   "cell_type": "code",
   "execution_count": 33,
   "id": "f65b71e6-3e5e-4eb0-b35d-c9a3af08a7a7",
   "metadata": {},
   "outputs": [
    {
     "name": "stdout",
     "output_type": "stream",
     "text": [
      "Data types in users_data:\n",
      "\n",
      "ID              object\n",
      "CREATED_DATE    object\n",
      "BIRTH_DATE      object\n",
      "STATE           object\n",
      "LANGUAGE        object\n",
      "GENDER          object\n",
      "dtype: object\n",
      "Data types in transaction_data:\n",
      "\n",
      "RECEIPT_ID         object\n",
      "PURCHASE_DATE      object\n",
      "SCAN_DATE          object\n",
      "STORE_NAME         object\n",
      "USER_ID            object\n",
      "BARCODE           float64\n",
      "FINAL_QUANTITY     object\n",
      "FINAL_SALE         object\n",
      "dtype: object\n",
      "Data types in product_data:\n",
      "\n",
      "CATEGORY_1       object\n",
      "CATEGORY_2       object\n",
      "CATEGORY_3       object\n",
      "CATEGORY_4       object\n",
      "MANUFACTURER     object\n",
      "BRAND            object\n",
      "BARCODE         float64\n",
      "dtype: object\n"
     ]
    }
   ],
   "source": [
    "check_data_types(data,dataset_names)"
   ]
  },
  {
   "cell_type": "code",
   "execution_count": 37,
   "id": "419b56ee-2554-4c59-bceb-fbd5ffa07e5d",
   "metadata": {},
   "outputs": [],
   "source": [
    "## Looking at datatypes, In transaction_data columns like FINAL_QUANTITY AND FINAL_SALE should be converted into integer from object"
   ]
  },
  {
   "cell_type": "code",
   "execution_count": 39,
   "id": "2aab743c-fab8-4cf1-9ff3-306cb95cbef7",
   "metadata": {},
   "outputs": [],
   "source": [
    "# Changing datatype\n",
    "# 1. Handle missing values in FINAL_SALE\n",
    "# Replace NaN or None with 0 (assumption)\n",
    "transaction_data['FINAL_SALE'] = transaction_data['FINAL_SALE'].replace(' ', np.nan) "
   ]
  },
  {
   "cell_type": "code",
   "execution_count": 41,
   "id": "f5857dba-20a1-4c93-8be6-2bf62e69557f",
   "metadata": {},
   "outputs": [],
   "source": [
    "transaction_data['FINAL_SALE'] = pd.to_numeric(transaction_data['FINAL_SALE'], errors='coerce')"
   ]
  },
  {
   "cell_type": "code",
   "execution_count": 43,
   "id": "9606f10a-35f7-4f26-b890-35ef851d36dc",
   "metadata": {},
   "outputs": [],
   "source": [
    "transaction_data['FINAL_SALE'] = transaction_data['FINAL_SALE'].fillna(0)"
   ]
  },
  {
   "cell_type": "code",
   "execution_count": 45,
   "id": "ec4f4090-8f4b-4310-88b9-ea77d78d3367",
   "metadata": {},
   "outputs": [],
   "source": [
    "# Usinf astype function to convert to integer\n",
    "transaction_data['FINAL_SALE'] = transaction_data['FINAL_SALE'].astype(int)"
   ]
  },
  {
   "cell_type": "code",
   "execution_count": 47,
   "id": "726c6dce-638d-45c4-88dc-c9dcdd909000",
   "metadata": {},
   "outputs": [
    {
     "name": "stdout",
     "output_type": "stream",
     "text": [
      "Data types in users_data:\n",
      "\n",
      "ID              object\n",
      "CREATED_DATE    object\n",
      "BIRTH_DATE      object\n",
      "STATE           object\n",
      "LANGUAGE        object\n",
      "GENDER          object\n",
      "dtype: object\n",
      "Data types in transaction_data:\n",
      "\n",
      "RECEIPT_ID         object\n",
      "PURCHASE_DATE      object\n",
      "SCAN_DATE          object\n",
      "STORE_NAME         object\n",
      "USER_ID            object\n",
      "BARCODE           float64\n",
      "FINAL_QUANTITY     object\n",
      "FINAL_SALE          int64\n",
      "dtype: object\n",
      "Data types in product_data:\n",
      "\n",
      "CATEGORY_1       object\n",
      "CATEGORY_2       object\n",
      "CATEGORY_3       object\n",
      "CATEGORY_4       object\n",
      "MANUFACTURER     object\n",
      "BRAND            object\n",
      "BARCODE         float64\n",
      "dtype: object\n"
     ]
    }
   ],
   "source": [
    "# Column Final_Price converted from object to integer we can do similar for FINAL_QUANTITY Column as well\n",
    "check_data_types(data,dataset_names)"
   ]
  },
  {
   "cell_type": "code",
   "execution_count": 49,
   "id": "978c8bce-f8d2-448e-8615-9647e77c5105",
   "metadata": {},
   "outputs": [
    {
     "name": "stdout",
     "output_type": "stream",
     "text": [
      "\n",
      "Transactions with invalid barcodes:\n",
      "                                 RECEIPT_ID PURCHASE_DATE  \\\n",
      "2      00017e0a-7851-42fb-bfab-0baa96e23586    2024-08-18   \n",
      "3      000239aa-3478-453d-801e-66a82e39c8af    2024-06-18   \n",
      "4      00026b4c-dfe8-49dd-b026-4c2f0fd5c6a1    2024-07-04   \n",
      "6      000550b2-1480-4c07-950f-ff601f242152    2024-07-06   \n",
      "8      000e1d35-15e5-46c6-b6b3-33653ed3d27e    2024-08-13   \n",
      "...                                     ...           ...   \n",
      "49990  441b9ecd-38ed-4960-9780-eb44a464284a    2024-06-26   \n",
      "49991  840c30ae-bc0a-40a4-a47d-052ed0af2da2    2024-08-18   \n",
      "49992  68f74fb3-ccf2-41f3-896a-799eb9a80680    2024-08-13   \n",
      "49995  b5cd61a9-8033-4913-a5c4-fb3f65e3a321    2024-08-21   \n",
      "49998  42475141-bef4-4df2-aa37-72577e2512bb    2024-06-18   \n",
      "\n",
      "                       SCAN_DATE        STORE_NAME                   USER_ID  \\\n",
      "2      2024-08-19 15:38:56.813 Z           WALMART  60842f207ac8b7729e472020   \n",
      "3      2024-06-19 11:03:37.468 Z         FOOD LION  63fcd7cea4f8442c3386b589   \n",
      "4      2024-07-05 15:56:43.549 Z          RANDALLS  6193231ae9b3d75037b0f928   \n",
      "6      2024-07-06 19:27:48.586 Z           WALMART  5f850bc9cf9431165f3ac175   \n",
      "8      2024-08-13 18:21:07.931 Z           WALMART  61a6d926f998e47aad33db66   \n",
      "...                          ...               ...                       ...   \n",
      "49990  2024-07-02 09:37:07.656 Z  FRY'S FOOD STORE  6251c788e3d6762c55855c1d   \n",
      "49991  2024-08-18 14:44:02.530 Z            COSTCO  65b322787050d0a6206b3479   \n",
      "49992  2024-08-19 11:06:59.023 Z   PEPPERIDGE FARM  64f4aee2b84ba41db3fb246a   \n",
      "49995  2024-08-31 14:13:08.634 Z            TARGET  6154bcf098f885648de2f299   \n",
      "49998  2024-06-18 19:57:32.211 Z     MARKET BASKET  6169912fac47744405af62b7   \n",
      "\n",
      "            BARCODE FINAL_QUANTITY  FINAL_SALE  \n",
      "2      7.874223e+10           1.00           0  \n",
      "3      7.833997e+11           zero           3  \n",
      "4      4.790050e+10           1.00           0  \n",
      "6      4.920091e+10           1.00           0  \n",
      "8      5.200001e+10           1.00           0  \n",
      "...             ...            ...         ...  \n",
      "49990  7.225002e+10           1.00           2  \n",
      "49991  1.407435e+07           1.00          11  \n",
      "49992  1.410007e+10           1.00           2  \n",
      "49995  8.523911e+10           2.00           1  \n",
      "49998  4.180050e+10           1.00           3  \n",
      "\n",
      "[19408 rows x 8 columns]\n"
     ]
    }
   ],
   "source": [
    "# 5. Validate joins between datasets\n",
    "# Check if all barcodes in Transactions exist in Products\n",
    "print(\"\\nTransactions with invalid barcodes:\")\n",
    "print(transaction_data[~transaction_data['BARCODE'].isin(product_data['BARCODE'])])\n"
   ]
  },
  {
   "cell_type": "code",
   "execution_count": 51,
   "id": "35f3f1d1-25f3-434a-b594-0cd4ea3ac00f",
   "metadata": {},
   "outputs": [
    {
     "name": "stdout",
     "output_type": "stream",
     "text": [
      "\n",
      "Transactions with invalid user IDs:\n",
      "                                 RECEIPT_ID PURCHASE_DATE  \\\n",
      "0      0000d256-4041-4a3e-adc4-5623fb6e0c99    2024-08-21   \n",
      "1      0001455d-7a92-4a7b-a1d2-c747af1c8fd3    2024-07-20   \n",
      "2      00017e0a-7851-42fb-bfab-0baa96e23586    2024-08-18   \n",
      "3      000239aa-3478-453d-801e-66a82e39c8af    2024-06-18   \n",
      "4      00026b4c-dfe8-49dd-b026-4c2f0fd5c6a1    2024-07-04   \n",
      "...                                     ...           ...   \n",
      "49995  b5cd61a9-8033-4913-a5c4-fb3f65e3a321    2024-08-21   \n",
      "49996  e1b2f634-c9ad-4152-b662-4b22efc25862    2024-08-11   \n",
      "49997  b07ef8dd-e444-40a2-819b-f74a3e5f1ae7    2024-07-11   \n",
      "49998  42475141-bef4-4df2-aa37-72577e2512bb    2024-06-18   \n",
      "49999  3a179c4e-46f2-4126-b3d2-3514afc23a3e    2024-08-07   \n",
      "\n",
      "                       SCAN_DATE     STORE_NAME                   USER_ID  \\\n",
      "0      2024-08-21 14:19:06.539 Z        WALMART  63b73a7f3d310dceeabd4758   \n",
      "1      2024-07-20 09:50:24.206 Z           ALDI  62c08877baa38d1a1f6c211a   \n",
      "2      2024-08-19 15:38:56.813 Z        WALMART  60842f207ac8b7729e472020   \n",
      "3      2024-06-19 11:03:37.468 Z      FOOD LION  63fcd7cea4f8442c3386b589   \n",
      "4      2024-07-05 15:56:43.549 Z       RANDALLS  6193231ae9b3d75037b0f928   \n",
      "...                          ...            ...                       ...   \n",
      "49995  2024-08-31 14:13:08.634 Z         TARGET  6154bcf098f885648de2f299   \n",
      "49996  2024-08-11 18:15:56.736 Z    STOP & SHOP  60aa809f188b926b2244c974   \n",
      "49997  2024-07-11 08:03:25.816 Z        WALMART  60bd26e83dc3b13a15c5f4e7   \n",
      "49998  2024-06-18 19:57:32.211 Z  MARKET BASKET  6169912fac47744405af62b7   \n",
      "49999  2024-08-07 15:30:07.911 Z        WALMART  64e94d64ca929250373ef6e1   \n",
      "\n",
      "            BARCODE FINAL_QUANTITY  FINAL_SALE  \n",
      "0      1.530001e+10           1.00           0  \n",
      "1               NaN           zero           1  \n",
      "2      7.874223e+10           1.00           0  \n",
      "3      7.833997e+11           zero           3  \n",
      "4      4.790050e+10           1.00           0  \n",
      "...             ...            ...         ...  \n",
      "49995  8.523911e+10           2.00           1  \n",
      "49996  4.610040e+10           1.00           2  \n",
      "49997  6.466300e+11           1.00          20  \n",
      "49998  4.180050e+10           1.00           3  \n",
      "49999  3.076607e+11           1.00           5  \n",
      "\n",
      "[49738 rows x 8 columns]\n"
     ]
    }
   ],
   "source": [
    "# Check if all user IDs in Transactions exist in Users\n",
    "print(\"\\nTransactions with invalid user IDs:\")\n",
    "print(transaction_data[~transaction_data['USER_ID'].isin(users_data['ID'])])"
   ]
  },
  {
   "cell_type": "code",
   "execution_count": 53,
   "id": "5b354c02-5da6-4bf3-ac1d-48f481e8bbd2",
   "metadata": {},
   "outputs": [],
   "source": [
    "# The above data quality checks I have done to validate joins between the 3 tables to understand for example to make sure \n",
    "#all transactions are associated with valid, existing users.\n"
   ]
  },
  {
   "cell_type": "code",
   "execution_count": null,
   "id": "c6125a90-c4d7-4003-8bd5-eb2d3b334912",
   "metadata": {},
   "outputs": [],
   "source": []
  }
 ],
 "metadata": {
  "kernelspec": {
   "display_name": "Python [conda env:base] *",
   "language": "python",
   "name": "conda-base-py"
  },
  "language_info": {
   "codemirror_mode": {
    "name": "ipython",
    "version": 3
   },
   "file_extension": ".py",
   "mimetype": "text/x-python",
   "name": "python",
   "nbconvert_exporter": "python",
   "pygments_lexer": "ipython3",
   "version": "3.12.7"
  }
 },
 "nbformat": 4,
 "nbformat_minor": 5
}
